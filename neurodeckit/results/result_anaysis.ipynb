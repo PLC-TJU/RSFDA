{
 "cells": [
  {
   "cell_type": "code",
   "execution_count": 1,
   "metadata": {},
   "outputs": [],
   "source": [
    "import pandas as pd \n",
    "import numpy as np "
   ]
  },
  {
   "cell_type": "code",
   "execution_count": 8,
   "metadata": {},
   "outputs": [],
   "source": [
    "train_acc, test_acc, train_time, test_time = [], [], [], []\n",
    "for sub in [2,3,4,5,6,7]:\n",
    "    df = pd.read_csv(f'algorithms_all_result_TL_{sub}.csv')\n",
    "    train_acc.append(df.loc[:,'train_score'])    \n",
    "    test_acc.append(df.loc[:,'test_score'])\n",
    "    train_time.append(df.loc[:,'train_time'])\n",
    "    test_time.append(df.loc[:,'test_time'])\n",
    "\n",
    "train_acc = np.array(train_acc)\n",
    "test_acc = np.array(test_acc)\n",
    "train_time = np.array(train_time)\n",
    "test_time = np.array(test_time)\n",
    "\n",
    "# 计算平均所有被试的训练和测试准确率\n",
    "mean_train_acc = np.mean(train_acc, axis=0)\n",
    "mean_test_acc = np.mean(test_acc, axis=0)\n",
    "mean_train_time = np.mean(train_time, axis=0)\n",
    "mean_test_time = np.mean(test_time, axis=0)\n",
    "\n",
    "# 计算标准差\n",
    "std_train_acc = np.std(train_acc, axis=0)\n",
    "std_test_acc = np.std(test_acc, axis=0)\n",
    "std_train_time = np.std(train_time, axis=0)\n",
    "std_test_time = np.std(test_time, axis=0)\n"
   ]
  },
  {
   "cell_type": "code",
   "execution_count": 10,
   "metadata": {},
   "outputs": [],
   "source": [
    "#新建一个df文件，将所有结果都写入其中\n",
    "new_df = pd.DataFrame()\n",
    "\n",
    "# 拷贝df中的数据到new_df中\n",
    "for header in df.columns:\n",
    "    if header not in ['train_score', 'test_score', 'train_time', 'test_time']:\n",
    "        new_df[header] = df[header]\n",
    "\n",
    "for sub in range(train_acc.shape[0]):   \n",
    "    new_df[f'trainacc_{sub}'] = train_acc[sub]  \n",
    "    new_df[f'testacc_{sub}'] = test_acc[sub]\n",
    "    new_df[f'traintime_{sub}'] = train_time[sub]\n",
    "    new_df[f'testtime_{sub}'] = test_time[sub]\n",
    "\n",
    "new_df['mean_trainacc'] = train_acc.mean(axis=0)\n",
    "new_df['mean_testacc'] = test_acc.mean(axis=0)\n",
    "new_df['mean_traintime'] = train_time.mean(axis=0)\n",
    "new_df['mean_testtime'] = test_time.mean(axis=0)\n",
    "\n",
    "new_df.to_csv('algorithms_all_result_TL_mean2-7.csv', index=False)\n",
    "              "
   ]
  },
  {
   "cell_type": "code",
   "execution_count": 9,
   "metadata": {},
   "outputs": [
    {
     "data": {
      "text/plain": [
       "(6, 1568)"
      ]
     },
     "execution_count": 9,
     "metadata": {},
     "output_type": "execute_result"
    }
   ],
   "source": []
  }
 ],
 "metadata": {
  "kernelspec": {
   "display_name": "Python 3",
   "language": "python",
   "name": "python3"
  },
  "language_info": {
   "codemirror_mode": {
    "name": "ipython",
    "version": 3
   },
   "file_extension": ".py",
   "mimetype": "text/x-python",
   "name": "python",
   "nbconvert_exporter": "python",
   "pygments_lexer": "ipython3",
   "version": "3.10.11"
  }
 },
 "nbformat": 4,
 "nbformat_minor": 2
}
